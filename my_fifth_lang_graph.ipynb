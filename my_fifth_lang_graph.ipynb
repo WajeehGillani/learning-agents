{
  "nbformat": 4,
  "nbformat_minor": 0,
  "metadata": {
    "colab": {
      "provenance": [],
      "authorship_tag": "ABX9TyPYTGAMu/ndpYuEFHGG5+Pm",
      "include_colab_link": true
    },
    "kernelspec": {
      "name": "python3",
      "display_name": "Python 3"
    },
    "language_info": {
      "name": "python"
    }
  },
  "cells": [
    {
      "cell_type": "markdown",
      "metadata": {
        "id": "view-in-github",
        "colab_type": "text"
      },
      "source": [
        "<a href=\"https://colab.research.google.com/github/WajeehGillani/learning-agents/blob/main/my_fifth_lang_graph.ipynb\" target=\"_parent\"><img src=\"https://colab.research.google.com/assets/colab-badge.svg\" alt=\"Open In Colab\"/></a>"
      ]
    },
    {
      "cell_type": "code",
      "execution_count": 2,
      "metadata": {
        "id": "O37yqkRXlLlu",
        "colab": {
          "base_uri": "https://localhost:8080/"
        },
        "outputId": "c1bd4068-6e50-49ed-a977-3072d049960c"
      },
      "outputs": [
        {
          "output_type": "stream",
          "name": "stdout",
          "text": [
            "\u001b[?25l     \u001b[90m━━━━━━━━━━━━━━━━━━━━━━━━━━━━━━━━━━━━━━━━\u001b[0m \u001b[32m0.0/43.7 kB\u001b[0m \u001b[31m?\u001b[0m eta \u001b[36m-:--:--\u001b[0m\r\u001b[2K     \u001b[90m━━━━━━━━━━━━━━━━━━━━━━━━━━━━━━━━━━━━━━━━\u001b[0m \u001b[32m43.7/43.7 kB\u001b[0m \u001b[31m2.5 MB/s\u001b[0m eta \u001b[36m0:00:00\u001b[0m\n",
            "\u001b[2K   \u001b[90m━━━━━━━━━━━━━━━━━━━━━━━━━━━━━━━━━━━━━━━━\u001b[0m \u001b[32m153.3/153.3 kB\u001b[0m \u001b[31m10.5 MB/s\u001b[0m eta \u001b[36m0:00:00\u001b[0m\n",
            "\u001b[2K   \u001b[90m━━━━━━━━━━━━━━━━━━━━━━━━━━━━━━━━━━━━━━━━\u001b[0m \u001b[32m43.9/43.9 kB\u001b[0m \u001b[31m2.8 MB/s\u001b[0m eta \u001b[36m0:00:00\u001b[0m\n",
            "\u001b[2K   \u001b[90m━━━━━━━━━━━━━━━━━━━━━━━━━━━━━━━━━━━━━━━━\u001b[0m \u001b[32m52.6/52.6 kB\u001b[0m \u001b[31m3.9 MB/s\u001b[0m eta \u001b[36m0:00:00\u001b[0m\n",
            "\u001b[2K   \u001b[90m━━━━━━━━━━━━━━━━━━━━━━━━━━━━━━━━━━━━━━━━\u001b[0m \u001b[32m216.7/216.7 kB\u001b[0m \u001b[31m14.8 MB/s\u001b[0m eta \u001b[36m0:00:00\u001b[0m\n",
            "\u001b[?25h"
          ]
        }
      ],
      "source": [
        "!pip -q install langgraph"
      ]
    },
    {
      "cell_type": "code",
      "source": [
        "from langgraph.graph import StateGraph, END\n",
        "from typing import TypedDict, List"
      ],
      "metadata": {
        "id": "FfJeXRL-dGYS"
      },
      "execution_count": 26,
      "outputs": []
    },
    {
      "cell_type": "code",
      "source": [
        "class AgentState(TypedDict):\n",
        "  player_name:str\n",
        "  guesses: List[int]\n",
        "  attempts: int\n",
        "  lower_bound: int\n",
        "  upper_bound: int\n",
        "  target_number:int\n"
      ],
      "metadata": {
        "id": "_k9BHqlLdUmf"
      },
      "execution_count": 22,
      "outputs": []
    },
    {
      "cell_type": "code",
      "source": [
        "import random\n",
        "\n",
        "def setup_node(state:AgentState) -> AgentState:\n",
        "  init =  AgentState(\n",
        "    player_name=state['player_name'],\n",
        "    guesses=[],\n",
        "    target_number=random.randint(1, 20),\n",
        "    attempts=0,\n",
        "    lower_bound=1,\n",
        "    upper_bound=20\n",
        "  )\n",
        "  print(\"INITIAL STATE\",init)\n",
        "  return init\n",
        "\n",
        "\n",
        "def guess_node(state:AgentState):\n",
        "  guess = random.randint(state['lower_bound'], state['upper_bound'])\n",
        "  print(f\"AI Guess {guess}\")\n",
        "  state['guesses'].append(guess)\n",
        "  state['attempts'] += 1\n",
        "  return state\n",
        "\n",
        "def hint_node(state:AgentState):\n",
        "  if state['target_number'] > state['guesses'][-1]:\n",
        "    print(f\"checking if {state['target_number']} is > than {state['guesses'][-1]}\")\n",
        "    state['lower_bound'] = state['guesses'][-1] + 1\n",
        "    print(\"Lower\")\n",
        "    return state\n",
        "  elif state['target_number'] < state['guesses'][-1]:\n",
        "    print(f\"checking if {state['target_number']} is < than {state['guesses'][-1]}\")\n",
        "    state['upper_bound'] = state['guesses'][-1] - 1\n",
        "    print(\"Higher\")\n",
        "    return state\n",
        "  else:\n",
        "    print(\"Correct\")\n",
        "    return state\n",
        "\n",
        "def should_continue(state: AgentState) -> str:\n",
        "    \"\"\"Determine if we should continue guessing or end the game\"\"\"\n",
        "\n",
        "    # There are 2 end conditions - either 7 is reached or the correct number is guessed\n",
        "\n",
        "    latest_guess = state[\"guesses\"][-1]\n",
        "    if latest_guess == state[\"target_number\"]:\n",
        "        print(f\"GAME OVER: Number found!\")\n",
        "        return \"exit\"\n",
        "    elif state[\"attempts\"] >= 7:\n",
        "        print(f\"GAME OVER: Maximum attempts reached! The number was {state['target_number']}\")\n",
        "        return \"exit\"\n",
        "    else:\n",
        "        print(f\"CONTINUING: {state['attempts']}/7 attempts used\")\n",
        "        return \"continue\""
      ],
      "metadata": {
        "id": "k3jsMrKGd2Ox"
      },
      "execution_count": 173,
      "outputs": []
    },
    {
      "cell_type": "code",
      "source": [
        "graph = StateGraph(AgentState)\n",
        "\n",
        "graph.add_node('setup', setup_node)\n",
        "graph.add_node('guessing', guess_node)\n",
        "graph.add_node('hint', hint_node)\n",
        "graph.add_edge('setup','guessing')\n",
        "graph.add_edge('guessing','hint')\n",
        "graph.add_conditional_edges('hint', should_continue,{\n",
        "    \"continue\":\"guessing\",\n",
        "    \"exit\": END\n",
        "})\n",
        "graph.set_entry_point('setup')"
      ],
      "metadata": {
        "colab": {
          "base_uri": "https://localhost:8080/"
        },
        "id": "MODBBcqmgFm9",
        "outputId": "7e5c7c28-211f-412f-9b09-d1147f934f4b"
      },
      "execution_count": 174,
      "outputs": [
        {
          "output_type": "execute_result",
          "data": {
            "text/plain": [
              "<langgraph.graph.state.StateGraph at 0x78d60a0f7200>"
            ]
          },
          "metadata": {},
          "execution_count": 174
        }
      ]
    },
    {
      "cell_type": "code",
      "source": [
        "app=graph.compile()"
      ],
      "metadata": {
        "id": "08PwgzFGozFl"
      },
      "execution_count": 175,
      "outputs": []
    },
    {
      "cell_type": "code",
      "source": [
        "from IPython.display import Image, display\n",
        "display(Image(app.get_graph().draw_mermaid_png()))"
      ],
      "metadata": {
        "colab": {
          "base_uri": "https://localhost:8080/",
          "height": 497
        },
        "id": "54gT8k3Ho4PZ",
        "outputId": "32461651-40af-49a1-e9c4-8ace7722d9dc"
      },
      "execution_count": 176,
      "outputs": [
        {
          "output_type": "display_data",
          "data": {
            "image/png": "[encoded data removed]",
            "text/plain": [
              "<IPython.core.display.Image object>"
            ]
          },
          "metadata": {}
        }
      ]
    },
    {
      "cell_type": "code",
      "source": [
        "result = app.invoke({\"player_name\": \"Student\", \"guesses\": [], \"attempts\": 0, \"lower_bound\": 1, \"upper_bound\": 20})\n"
      ],
      "metadata": {
        "colab": {
          "base_uri": "https://localhost:8080/"
        },
        "id": "1WTihBvYrS1s",
        "outputId": "7160917f-b3d5-4c80-ce87-adc98ee9405e"
      },
      "execution_count": 177,
      "outputs": [
        {
          "output_type": "stream",
          "name": "stdout",
          "text": [
            "INITIAL STATE {'player_name': 'Student', 'guesses': [], 'target_number': 7, 'attempts': 0, 'lower_bound': 1, 'upper_bound': 20}\n",
            "AI Guess 14\n",
            "checking if 7 is < than 14\n",
            "Higher\n",
            "CONTINUING: 1/7 attempts used\n",
            "AI Guess 6\n",
            "checking if 7 is > than 6\n",
            "Lower\n",
            "CONTINUING: 2/7 attempts used\n",
            "AI Guess 13\n",
            "checking if 7 is < than 13\n",
            "Higher\n",
            "CONTINUING: 3/7 attempts used\n",
            "AI Guess 7\n",
            "Correct\n",
            "GAME OVER: Number found!\n"
          ]
        }
      ]
    }
  ]
}